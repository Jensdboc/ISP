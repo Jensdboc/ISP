{
  "cells": [
    {
      "cell_type": "code",
      "source": [
        "from google.colab import drive\n",
        "drive.mount('/content/drive')"
      ],
      "metadata": {
        "id": "x8a63HIK_R62",
        "colab": {
          "base_uri": "https://localhost:8080/"
        },
        "outputId": "7a7dd5cf-bc09-4822-d74f-025385076e39"
      },
      "id": "x8a63HIK_R62",
      "execution_count": null,
      "outputs": [
        {
          "output_type": "stream",
          "name": "stdout",
          "text": [
            "Drive already mounted at /content/drive; to attempt to forcibly remount, call drive.mount(\"/content/drive\", force_remount=True).\n"
          ]
        }
      ]
    },
    {
      "cell_type": "code",
      "execution_count": null,
      "id": "initial_id",
      "metadata": {
        "collapsed": true,
        "ExecuteTime": {
          "end_time": "2023-11-03T12:12:46.596832Z",
          "start_time": "2023-11-03T12:12:46.570830Z"
        },
        "id": "initial_id"
      },
      "outputs": [],
      "source": [
        "import numpy as np\n",
        "import pandas as pd\n",
        "import os\n",
        "\n",
        "import cv2\n",
        "#import mediapipe as mp\n",
        "from IPython.display import display, Image\n",
        "\n",
        "import tensorflow as tf\n",
        "from tensorflow.keras import layers, models"
      ]
    },
    {
      "cell_type": "code",
      "source": [
        "!pip install requests"
      ],
      "metadata": {
        "colab": {
          "base_uri": "https://localhost:8080/"
        },
        "id": "29b0xcmL460w",
        "outputId": "63542cb4-d827-4f4a-ac6f-d0accd48cc24"
      },
      "id": "29b0xcmL460w",
      "execution_count": null,
      "outputs": [
        {
          "output_type": "stream",
          "name": "stdout",
          "text": [
            "Requirement already satisfied: requests in /usr/local/lib/python3.10/dist-packages (2.31.0)\n",
            "Requirement already satisfied: charset-normalizer<4,>=2 in /usr/local/lib/python3.10/dist-packages (from requests) (3.3.1)\n",
            "Requirement already satisfied: idna<4,>=2.5 in /usr/local/lib/python3.10/dist-packages (from requests) (3.4)\n",
            "Requirement already satisfied: urllib3<3,>=1.21.1 in /usr/local/lib/python3.10/dist-packages (from requests) (2.0.7)\n",
            "Requirement already satisfied: certifi>=2017.4.17 in /usr/local/lib/python3.10/dist-packages (from requests) (2023.7.22)\n"
          ]
        }
      ]
    },
    {
      "cell_type": "code",
      "execution_count": null,
      "outputs": [],
      "source": [
        "import requests\n",
        "model_filename = \"model_v0_train.keras\"\n",
        "response = requests.get(\"https://raw.githubusercontent.com/Jensdboc/ISP/master/model_v0_train_20/model_v0_train.keras\")\n",
        "\n",
        "with open(model_filename, 'wb') as model_file:\n",
        "    model_file.write(response.content)"
      ],
      "metadata": {
        "ExecuteTime": {
          "end_time": "2023-11-03T12:12:47.312576900Z",
          "start_time": "2023-11-03T12:12:47.104546400Z"
        },
        "id": "3cb5cd4b7b661f3"
      },
      "id": "3cb5cd4b7b661f3"
    },
    {
      "cell_type": "code",
      "source": [
        "!unzip \"/content/drive/MyDrive/train.zip\""
      ],
      "metadata": {
        "id": "xR5rKDTm_WGw",
        "colab": {
          "base_uri": "https://localhost:8080/"
        },
        "outputId": "5ed3bb94-38e4-4884-b56e-507c949686a3"
      },
      "id": "xR5rKDTm_WGw",
      "execution_count": null,
      "outputs": [
        {
          "output_type": "stream",
          "name": "stdout",
          "text": [
            "Archive:  /content/drive/MyDrive/train.zip\n",
            "replace train/.DS_Store? [y]es, [n]o, [A]ll, [N]one, [r]ename: "
          ]
        }
      ]
    },
    {
      "cell_type": "code",
      "source": [
        "!unzip \"/content/drive/MyDrive/test2.zip\""
      ],
      "metadata": {
        "colab": {
          "base_uri": "https://localhost:8080/"
        },
        "id": "iK3I8CUgF8OS",
        "outputId": "0129102c-41d8-47fa-c3e3-0e448dbff682"
      },
      "id": "iK3I8CUgF8OS",
      "execution_count": 54,
      "outputs": [
        {
          "output_type": "stream",
          "name": "stdout",
          "text": [
            "Archive:  /content/drive/MyDrive/test2.zip\n",
            "   creating: test2/Potato___Early_blight/\n",
            "  inflating: test2/.DS_Store         \n",
            "  inflating: __MACOSX/test2/._.DS_Store  \n",
            "   creating: test2/Apple___Cedar_apple_rust/\n",
            "   creating: test2/Tomato___Early_blight/\n",
            "   creating: test2/Corn_(maize)___Common_rust_/\n",
            "   creating: test2/Tomato___healthy/\n",
            "   creating: test2/Tomato___Tomato_Yellow_Leaf_Curl_Virus/\n",
            "   creating: test2/Apple___Apple_scab/\n",
            "   creating: test2/Potato___healthy/\n",
            "  inflating: test2/Potato___Early_blight/.DS_Store  \n",
            "  inflating: __MACOSX/test2/Potato___Early_blight/._.DS_Store  \n",
            "  inflating: test2/Potato___Early_blight/TomatoEarlyBlight5.JPG  \n",
            "  inflating: __MACOSX/test2/Potato___Early_blight/._TomatoEarlyBlight5.JPG  \n",
            "  inflating: test2/Potato___Early_blight/PotatoEarlyBlight4.JPG  \n",
            "  inflating: __MACOSX/test2/Potato___Early_blight/._PotatoEarlyBlight4.JPG  \n",
            "  inflating: test2/Potato___Early_blight/PotatoEarlyBlight5.JPG  \n",
            "  inflating: __MACOSX/test2/Potato___Early_blight/._PotatoEarlyBlight5.JPG  \n",
            "  inflating: test2/Potato___Early_blight/PotatoEarlyBlight2.JPG  \n",
            "  inflating: __MACOSX/test2/Potato___Early_blight/._PotatoEarlyBlight2.JPG  \n",
            "  inflating: test2/Potato___Early_blight/PotatoEarlyBlight3.JPG  \n",
            "  inflating: __MACOSX/test2/Potato___Early_blight/._PotatoEarlyBlight3.JPG  \n",
            "  inflating: test2/Potato___Early_blight/PotatoEarlyBlight1.JPG  \n",
            "  inflating: __MACOSX/test2/Potato___Early_blight/._PotatoEarlyBlight1.JPG  \n",
            "  inflating: test2/Apple___Cedar_apple_rust/.DS_Store  \n",
            "  inflating: __MACOSX/test2/Apple___Cedar_apple_rust/._.DS_Store  \n",
            "  inflating: test2/Apple___Cedar_apple_rust/AppleCedarRust2.JPG  \n",
            "  inflating: __MACOSX/test2/Apple___Cedar_apple_rust/._AppleCedarRust2.JPG  \n",
            "  inflating: test2/Apple___Cedar_apple_rust/AppleCedarRust3.JPG  \n",
            "  inflating: __MACOSX/test2/Apple___Cedar_apple_rust/._AppleCedarRust3.JPG  \n",
            "  inflating: test2/Apple___Cedar_apple_rust/AppleCedarRust1.JPG  \n",
            "  inflating: __MACOSX/test2/Apple___Cedar_apple_rust/._AppleCedarRust1.JPG  \n",
            "  inflating: test2/Apple___Cedar_apple_rust/AppleCedarRust4.JPG  \n",
            "  inflating: __MACOSX/test2/Apple___Cedar_apple_rust/._AppleCedarRust4.JPG  \n",
            "  inflating: test2/Tomato___Early_blight/TomatoEarlyBlight2.JPG  \n",
            "  inflating: __MACOSX/test2/Tomato___Early_blight/._TomatoEarlyBlight2.JPG  \n",
            "  inflating: test2/Tomato___Early_blight/TomatoEarlyBlight3.JPG  \n",
            "  inflating: __MACOSX/test2/Tomato___Early_blight/._TomatoEarlyBlight3.JPG  \n",
            "  inflating: test2/Tomato___Early_blight/TomatoEarlyBlight1.JPG  \n",
            "  inflating: __MACOSX/test2/Tomato___Early_blight/._TomatoEarlyBlight1.JPG  \n",
            "  inflating: test2/Tomato___Early_blight/TomatoEarlyBlight4.JPG  \n",
            "  inflating: __MACOSX/test2/Tomato___Early_blight/._TomatoEarlyBlight4.JPG  \n",
            "  inflating: test2/Tomato___Early_blight/.DS_Store  \n",
            "  inflating: __MACOSX/test2/Tomato___Early_blight/._.DS_Store  \n",
            "  inflating: test2/Tomato___Early_blight/TomatoEarlyBlight6.JPG  \n",
            "  inflating: __MACOSX/test2/Tomato___Early_blight/._TomatoEarlyBlight6.JPG  \n",
            "  inflating: test2/Corn_(maize)___Common_rust_/.DS_Store  \n",
            "  inflating: __MACOSX/test2/Corn_(maize)___Common_rust_/._.DS_Store  \n",
            "  inflating: test2/Corn_(maize)___Common_rust_/CornCommonRust1.JPG  \n",
            "  inflating: __MACOSX/test2/Corn_(maize)___Common_rust_/._CornCommonRust1.JPG  \n",
            "  inflating: test2/Corn_(maize)___Common_rust_/CornCommonRust2.JPG  \n",
            "  inflating: __MACOSX/test2/Corn_(maize)___Common_rust_/._CornCommonRust2.JPG  \n",
            "  inflating: test2/Corn_(maize)___Common_rust_/CornCommonRust3.JPG  \n",
            "  inflating: __MACOSX/test2/Corn_(maize)___Common_rust_/._CornCommonRust3.JPG  \n",
            "  inflating: test2/Tomato___healthy/.DS_Store  \n",
            "  inflating: __MACOSX/test2/Tomato___healthy/._.DS_Store  \n",
            "  inflating: test2/Tomato___healthy/TomatoHealthy4.JPG  \n",
            "  inflating: __MACOSX/test2/Tomato___healthy/._TomatoHealthy4.JPG  \n",
            "  inflating: test2/Tomato___healthy/TomatoHealthy1.JPG  \n",
            "  inflating: __MACOSX/test2/Tomato___healthy/._TomatoHealthy1.JPG  \n",
            "  inflating: test2/Tomato___healthy/TomatoHealthy3.JPG  \n",
            "  inflating: __MACOSX/test2/Tomato___healthy/._TomatoHealthy3.JPG  \n",
            "  inflating: test2/Tomato___healthy/TomatoHealthy2.JPG  \n",
            "  inflating: __MACOSX/test2/Tomato___healthy/._TomatoHealthy2.JPG  \n",
            "  inflating: test2/Tomato___Tomato_Yellow_Leaf_Curl_Virus/.DS_Store  \n",
            "  inflating: __MACOSX/test2/Tomato___Tomato_Yellow_Leaf_Curl_Virus/._.DS_Store  \n",
            "  inflating: test2/Tomato___Tomato_Yellow_Leaf_Curl_Virus/TomatoYellowCurlVirus2.JPG  \n",
            "  inflating: __MACOSX/test2/Tomato___Tomato_Yellow_Leaf_Curl_Virus/._TomatoYellowCurlVirus2.JPG  \n",
            "  inflating: test2/Tomato___Tomato_Yellow_Leaf_Curl_Virus/TomatoYellowCurlVirus3.JPG  \n",
            "  inflating: __MACOSX/test2/Tomato___Tomato_Yellow_Leaf_Curl_Virus/._TomatoYellowCurlVirus3.JPG  \n",
            "  inflating: test2/Tomato___Tomato_Yellow_Leaf_Curl_Virus/TomatoYellowCurlVirus1.JPG  \n",
            "  inflating: __MACOSX/test2/Tomato___Tomato_Yellow_Leaf_Curl_Virus/._TomatoYellowCurlVirus1.JPG  \n",
            "  inflating: test2/Tomato___Tomato_Yellow_Leaf_Curl_Virus/TomatoYellowCurlVirus4.JPG  \n",
            "  inflating: __MACOSX/test2/Tomato___Tomato_Yellow_Leaf_Curl_Virus/._TomatoYellowCurlVirus4.JPG  \n",
            "  inflating: test2/Tomato___Tomato_Yellow_Leaf_Curl_Virus/TomatoYellowCurlVirus5.JPG  \n",
            "  inflating: __MACOSX/test2/Tomato___Tomato_Yellow_Leaf_Curl_Virus/._TomatoYellowCurlVirus5.JPG  \n",
            "  inflating: test2/Tomato___Tomato_Yellow_Leaf_Curl_Virus/TomatoYellowCurlVirus6.JPG  \n",
            "  inflating: __MACOSX/test2/Tomato___Tomato_Yellow_Leaf_Curl_Virus/._TomatoYellowCurlVirus6.JPG  \n",
            "  inflating: test2/Apple___Apple_scab/AppleScab3.JPG  \n",
            "  inflating: __MACOSX/test2/Apple___Apple_scab/._AppleScab3.JPG  \n",
            "  inflating: test2/Apple___Apple_scab/AppleScab2.JPG  \n",
            "  inflating: __MACOSX/test2/Apple___Apple_scab/._AppleScab2.JPG  \n",
            "  inflating: test2/Apple___Apple_scab/AppleScab1.JPG  \n",
            "  inflating: __MACOSX/test2/Apple___Apple_scab/._AppleScab1.JPG  \n",
            "  inflating: test2/Apple___Apple_scab/.DS_Store  \n",
            "  inflating: __MACOSX/test2/Apple___Apple_scab/._.DS_Store  \n",
            "  inflating: test2/Potato___healthy/PotatoHealthy1.JPG  \n",
            "  inflating: __MACOSX/test2/Potato___healthy/._PotatoHealthy1.JPG  \n",
            "  inflating: test2/Potato___healthy/PotatoHealthy2.JPG  \n",
            "  inflating: __MACOSX/test2/Potato___healthy/._PotatoHealthy2.JPG  \n",
            "  inflating: test2/Potato___healthy/.DS_Store  \n",
            "  inflating: __MACOSX/test2/Potato___healthy/._.DS_Store  \n"
          ]
        }
      ]
    },
    {
      "cell_type": "code",
      "source": [
        "from tensorflow import keras\n",
        "\n",
        "model = keras.models.load_model(model_filename)\n",
        "model.summary()"
      ],
      "metadata": {
        "colab": {
          "base_uri": "https://localhost:8080/"
        },
        "id": "-sP1FtEF5JAs",
        "outputId": "06b6c503-3d29-473c-c527-a7d27aa8f224"
      },
      "id": "-sP1FtEF5JAs",
      "execution_count": null,
      "outputs": [
        {
          "output_type": "stream",
          "name": "stdout",
          "text": [
            "Model: \"sequential\"\n",
            "_________________________________________________________________\n",
            " Layer (type)                Output Shape              Param #   \n",
            "=================================================================\n",
            " conv2d (Conv2D)             (None, 254, 254, 16)      448       \n",
            "                                                                 \n",
            " max_pooling2d (MaxPooling2  (None, 127, 127, 16)      0         \n",
            " D)                                                              \n",
            "                                                                 \n",
            " conv2d_1 (Conv2D)           (None, 125, 125, 32)      4640      \n",
            "                                                                 \n",
            " max_pooling2d_1 (MaxPoolin  (None, 62, 62, 32)        0         \n",
            " g2D)                                                            \n",
            "                                                                 \n",
            " conv2d_2 (Conv2D)           (None, 60, 60, 64)        18496     \n",
            "                                                                 \n",
            " max_pooling2d_2 (MaxPoolin  (None, 30, 30, 64)        0         \n",
            " g2D)                                                            \n",
            "                                                                 \n",
            " conv2d_3 (Conv2D)           (None, 28, 28, 128)       73856     \n",
            "                                                                 \n",
            " max_pooling2d_3 (MaxPoolin  (None, 14, 14, 128)       0         \n",
            " g2D)                                                            \n",
            "                                                                 \n",
            " flatten (Flatten)           (None, 25088)             0         \n",
            "                                                                 \n",
            " dense (Dense)               (None, 64)                1605696   \n",
            "                                                                 \n",
            " dense_1 (Dense)             (None, 38)                2470      \n",
            "                                                                 \n",
            "=================================================================\n",
            "Total params: 1705606 (6.51 MB)\n",
            "Trainable params: 1705606 (6.51 MB)\n",
            "Non-trainable params: 0 (0.00 Byte)\n",
            "_________________________________________________________________\n"
          ]
        }
      ]
    },
    {
      "cell_type": "code",
      "source": [
        "!pip install opencv-python"
      ],
      "metadata": {
        "id": "w2FfjB8D5w-r"
      },
      "id": "w2FfjB8D5w-r",
      "execution_count": null,
      "outputs": []
    },
    {
      "cell_type": "code",
      "execution_count": null,
      "outputs": [],
      "source": [
        "# Initialize the camera\n",
        "cap = cv2.VideoCapture(0)  # 0 indicates the default camera (you can change this number if you have multiple cameras)\n",
        "\n",
        "while True:\n",
        "    # Capture frame-by-frame\n",
        "    ret, frame = cap.read()\n",
        "\n",
        "    # Process the frame (e.g., resize, normalize, etc.) as needed\n",
        "    processed_frame = cv2.resize(frame, (256, 256))\n",
        "    processed_frame = np.expand_dims(processed_frame, axis=0)\n",
        "    print(type(processed_frame))\n",
        "    predictions = model.predict(processed_frame)\n",
        "    c = np.argmax(predictions, axis=1)\n",
        "    text = classes[int(c)]\n",
        "    print(text)\n",
        "    font = cv2.FONT_HERSHEY_SIMPLEX\n",
        "    font_scale = 1.0\n",
        "    font_thickness = 2\n",
        "    color = (128, 0, 128)\n",
        "    position = (10, 30)  # Coordinates (x, y) of the upper left corner\n",
        "\n",
        "    # Add text to the image\n",
        "    cv2.putText(frame, text, position, font, font_scale, color, font_thickness)\n",
        "\n",
        "    cv2.imshow('Camera Feed', frame)\n",
        "\n",
        "    # Break the loop if 'q' is pressed\n",
        "    if cv2.waitKey(1) & 0xFF == ord('q'):\n",
        "        break\n",
        "\n",
        "# Release the camera and close the window\n",
        "cap.release()\n",
        "cv2.destroyAllWindows()"
      ],
      "metadata": {
        "ExecuteTime": {
          "end_time": "2023-11-03T12:12:09.004764200Z",
          "start_time": "2023-11-03T12:12:04.837003700Z"
        },
        "id": "4767229a6a62701f"
      },
      "id": "4767229a6a62701f"
    },
    {
      "cell_type": "code",
      "source": [
        "import tensorflow as tf\n",
        "from tensorflow.keras import layers, models\n",
        "from tensorflow.keras.preprocessing.image import ImageDataGenerator\n",
        "from tensorflow.keras.callbacks import ModelCheckpoint\n",
        "\n",
        "datagen = ImageDataGenerator(rescale=1./255)\n",
        "generator = datagen.flow_from_directory(\n",
        "    \"/content/validation\",\n",
        "    target_size=(256, 256),\n",
        "    batch_size=10,\n",
        "    class_mode='sparse'  # Assuming a classification task\n",
        ")\n",
        "\n",
        "test_datagen = ImageDataGenerator(rescale=1./255)\n",
        "test_generator = test_datagen.flow_from_directory(\n",
        "    \"/content/test2\",\n",
        "    target_size=(256, 256),\n",
        "    batch_size=10,\n",
        "    class_mode='sparse'  # Assuming a classification task\n",
        ")\n",
        "\n",
        "classes = list(generator.class_indices.keys())"
      ],
      "metadata": {
        "colab": {
          "base_uri": "https://localhost:8080/"
        },
        "id": "-7HLSYrC-kEV",
        "outputId": "1ab44b23-3b26-4beb-af13-a9ef6ac52838"
      },
      "id": "-7HLSYrC-kEV",
      "execution_count": 71,
      "outputs": [
        {
          "output_type": "stream",
          "name": "stdout",
          "text": [
            "Found 3800 images belonging to 38 classes.\n",
            "Found 33 images belonging to 38 classes.\n"
          ]
        }
      ]
    },
    {
      "cell_type": "code",
      "source": [
        "classes"
      ],
      "metadata": {
        "colab": {
          "base_uri": "https://localhost:8080/"
        },
        "id": "L4Pu8FBsJAWQ",
        "outputId": "3527f5f1-f946-4b4b-e2db-f00d3e7f57fc"
      },
      "id": "L4Pu8FBsJAWQ",
      "execution_count": 74,
      "outputs": [
        {
          "output_type": "execute_result",
          "data": {
            "text/plain": [
              "['Apple___Apple_scab',\n",
              " 'Apple___Black_rot',\n",
              " 'Apple___Cedar_apple_rust',\n",
              " 'Apple___healthy',\n",
              " 'Blueberry___healthy',\n",
              " 'Cherry_(including_sour)___Powdery_mildew',\n",
              " 'Cherry_(including_sour)___healthy',\n",
              " 'Corn_(maize)___Cercospora_leaf_spot Gray_leaf_spot',\n",
              " 'Corn_(maize)___Common_rust_',\n",
              " 'Corn_(maize)___Northern_Leaf_Blight',\n",
              " 'Corn_(maize)___healthy',\n",
              " 'Grape___Black_rot',\n",
              " 'Grape___Esca_(Black_Measles)',\n",
              " 'Grape___Leaf_blight_(Isariopsis_Leaf_Spot)',\n",
              " 'Grape___healthy',\n",
              " 'Orange___Haunglongbing_(Citrus_greening)',\n",
              " 'Peach___Bacterial_spot',\n",
              " 'Peach___healthy',\n",
              " 'Pepper,_bell___Bacterial_spot',\n",
              " 'Pepper,_bell___healthy',\n",
              " 'Potato___Early_blight',\n",
              " 'Potato___Late_blight',\n",
              " 'Potato___healthy',\n",
              " 'Raspberry___healthy',\n",
              " 'Soybean___healthy',\n",
              " 'Squash___Powdery_mildew',\n",
              " 'Strawberry___Leaf_scorch',\n",
              " 'Strawberry___healthy',\n",
              " 'Tomato___Bacterial_spot',\n",
              " 'Tomato___Early_blight',\n",
              " 'Tomato___Late_blight',\n",
              " 'Tomato___Leaf_Mold',\n",
              " 'Tomato___Septoria_leaf_spot',\n",
              " 'Tomato___Spider_mites Two-spotted_spider_mite',\n",
              " 'Tomato___Target_Spot',\n",
              " 'Tomato___Tomato_Yellow_Leaf_Curl_Virus',\n",
              " 'Tomato___Tomato_mosaic_virus',\n",
              " 'Tomato___healthy']"
            ]
          },
          "metadata": {},
          "execution_count": 74
        }
      ]
    },
    {
      "cell_type": "code",
      "source": [
        "classes_wrong = ['Apple___Apple_scab', 'Apple___Black_rot', 'Apple___Cedar_apple_rust', 'Apple___healthy', 'Blueberry___healthy', 'Cherry_(including_sour)___healthy', 'Cherry_(including_sour)___Powdery_mildew', 'Corn_(maize)___Cercospora_leaf_spot Gray_leaf_spot', 'Corn_(maize)___Common_rust_', 'Corn_(maize)___healthy', 'Corn_(maize)___Northern_Leaf_Blight', 'Grape___Black_rot', 'Grape___Esca_(Black_Measles)', 'Grape___healthy', 'Grape___Leaf_blight_(Isariopsis_Leaf_Spot)', 'Orange___Haunglongbing_(Citrus_greening)', 'Peach___Bacterial_spot', 'Peach___healthy', 'Pepper,_bell___Bacterial_spot', 'Pepper,_bell___healthy', 'Potato___Early_blight', 'Potato___healthy', 'Potato___Late_blight', 'Raspberry___healthy', 'Soybean___healthy', 'Squash___Powdery_mildew', 'Strawberry___healthy', 'Strawberry___Leaf_scorch', 'Tomato___Bacterial_spot', 'Tomato___Early_blight', 'Tomato___healthy', 'Tomato___Late_blight', 'Tomato___Leaf_Mold', 'Tomato___Septoria_leaf_spot', 'Tomato___Spider_mites Two-spotted_spider_mite', 'Tomato___Target_Spot', 'Tomato___Tomato_mosaic_virus', 'Tomato___Tomato_Yellow_Leaf_Curl_Virus']\n",
        "\n",
        "for i, x in enumerate(classes):\n",
        "  print(classes_wrong[i] + \" SHOULD BE INSTEAD \" + classes[i])"
      ],
      "metadata": {
        "colab": {
          "base_uri": "https://localhost:8080/"
        },
        "id": "kU7T1yxNCKfa",
        "outputId": "ca4f7b74-f0df-4401-fd82-8ff77d0fd3db"
      },
      "id": "kU7T1yxNCKfa",
      "execution_count": null,
      "outputs": [
        {
          "output_type": "stream",
          "name": "stdout",
          "text": [
            "Apple___Apple_scab SHOULD BE INSTEAD Apple___Apple_scab\n",
            "Apple___Black_rot SHOULD BE INSTEAD Apple___Black_rot\n",
            "Apple___Cedar_apple_rust SHOULD BE INSTEAD Apple___Cedar_apple_rust\n",
            "Apple___healthy SHOULD BE INSTEAD Apple___healthy\n",
            "Blueberry___healthy SHOULD BE INSTEAD Blueberry___healthy\n",
            "Cherry_(including_sour)___healthy SHOULD BE INSTEAD Cherry_(including_sour)___Powdery_mildew\n",
            "Cherry_(including_sour)___Powdery_mildew SHOULD BE INSTEAD Cherry_(including_sour)___healthy\n",
            "Corn_(maize)___Cercospora_leaf_spot Gray_leaf_spot SHOULD BE INSTEAD Corn_(maize)___Cercospora_leaf_spot Gray_leaf_spot\n",
            "Corn_(maize)___Common_rust_ SHOULD BE INSTEAD Corn_(maize)___Common_rust_\n",
            "Corn_(maize)___healthy SHOULD BE INSTEAD Corn_(maize)___Northern_Leaf_Blight\n",
            "Corn_(maize)___Northern_Leaf_Blight SHOULD BE INSTEAD Corn_(maize)___healthy\n",
            "Grape___Black_rot SHOULD BE INSTEAD Grape___Black_rot\n",
            "Grape___Esca_(Black_Measles) SHOULD BE INSTEAD Grape___Esca_(Black_Measles)\n",
            "Grape___healthy SHOULD BE INSTEAD Grape___Leaf_blight_(Isariopsis_Leaf_Spot)\n",
            "Grape___Leaf_blight_(Isariopsis_Leaf_Spot) SHOULD BE INSTEAD Grape___healthy\n",
            "Orange___Haunglongbing_(Citrus_greening) SHOULD BE INSTEAD Orange___Haunglongbing_(Citrus_greening)\n",
            "Peach___Bacterial_spot SHOULD BE INSTEAD Peach___Bacterial_spot\n",
            "Peach___healthy SHOULD BE INSTEAD Peach___healthy\n",
            "Pepper,_bell___Bacterial_spot SHOULD BE INSTEAD Pepper,_bell___Bacterial_spot\n",
            "Pepper,_bell___healthy SHOULD BE INSTEAD Pepper,_bell___healthy\n",
            "Potato___Early_blight SHOULD BE INSTEAD Potato___Early_blight\n",
            "Potato___healthy SHOULD BE INSTEAD Potato___Late_blight\n",
            "Potato___Late_blight SHOULD BE INSTEAD Potato___healthy\n",
            "Raspberry___healthy SHOULD BE INSTEAD Raspberry___healthy\n",
            "Soybean___healthy SHOULD BE INSTEAD Soybean___healthy\n",
            "Squash___Powdery_mildew SHOULD BE INSTEAD Squash___Powdery_mildew\n",
            "Strawberry___healthy SHOULD BE INSTEAD Strawberry___Leaf_scorch\n",
            "Strawberry___Leaf_scorch SHOULD BE INSTEAD Strawberry___healthy\n",
            "Tomato___Bacterial_spot SHOULD BE INSTEAD Tomato___Bacterial_spot\n",
            "Tomato___Early_blight SHOULD BE INSTEAD Tomato___Early_blight\n",
            "Tomato___healthy SHOULD BE INSTEAD Tomato___Late_blight\n",
            "Tomato___Late_blight SHOULD BE INSTEAD Tomato___Leaf_Mold\n",
            "Tomato___Leaf_Mold SHOULD BE INSTEAD Tomato___Septoria_leaf_spot\n",
            "Tomato___Septoria_leaf_spot SHOULD BE INSTEAD Tomato___Spider_mites Two-spotted_spider_mite\n",
            "Tomato___Spider_mites Two-spotted_spider_mite SHOULD BE INSTEAD Tomato___Target_Spot\n",
            "Tomato___Target_Spot SHOULD BE INSTEAD Tomato___Tomato_Yellow_Leaf_Curl_Virus\n",
            "Tomato___Tomato_mosaic_virus SHOULD BE INSTEAD Tomato___Tomato_mosaic_virus\n",
            "Tomato___Tomato_Yellow_Leaf_Curl_Virus SHOULD BE INSTEAD Tomato___healthy\n"
          ]
        }
      ]
    },
    {
      "cell_type": "code",
      "source": [
        "import os\n",
        "for x in classes:\n",
        "  if not os.path.exists(\"/content/test2/\" + x):\n",
        "    os.mkdir(\"/content/test2/\" + x)"
      ],
      "metadata": {
        "id": "JIWmSWCsIRtr"
      },
      "id": "JIWmSWCsIRtr",
      "execution_count": 70,
      "outputs": []
    },
    {
      "cell_type": "code",
      "source": [
        "evaluation = model.evaluate(generator)\n",
        "labels = generator.labels\n",
        "print(labels)\n",
        "print(\"Validation Loss:\", evaluation[0])"
      ],
      "metadata": {
        "colab": {
          "base_uri": "https://localhost:8080/"
        },
        "id": "10vrYWzuD7Hb",
        "outputId": "85237a46-3d61-4ce9-dc5d-8d7a32928d19"
      },
      "id": "10vrYWzuD7Hb",
      "execution_count": 67,
      "outputs": [
        {
          "output_type": "stream",
          "name": "stdout",
          "text": [
            "380/380 [==============================] - 48s 127ms/step - loss: 0.0640 - accuracy: 0.9768\n",
            "[ 0  0  0 ... 37 37 37]\n",
            "Validation Loss: 0.06396234780550003\n"
          ]
        }
      ]
    },
    {
      "cell_type": "code",
      "source": [
        "evaluation = model.evaluate(test_generator)"
      ],
      "metadata": {
        "colab": {
          "base_uri": "https://localhost:8080/"
        },
        "id": "vfWlbbdgGC96",
        "outputId": "4c6f55d7-6d71-45ca-9fa4-d001ff42aa6c"
      },
      "id": "vfWlbbdgGC96",
      "execution_count": 73,
      "outputs": [
        {
          "output_type": "stream",
          "name": "stdout",
          "text": [
            "4/4 [==============================] - 0s 90ms/step - loss: 0.6622 - accuracy: 0.8788\n"
          ]
        }
      ]
    },
    {
      "cell_type": "code",
      "execution_count": null,
      "outputs": [
        {
          "output_type": "stream",
          "name": "stdout",
          "text": [
            "1/1 [==============================] - 0s 106ms/step\n"
          ]
        },
        {
          "output_type": "display_data",
          "data": {
            "image/jpeg": "[encoded data removed]",
            "text/plain": [
              "<IPython.core.display.Image object>"
            ]
          },
          "metadata": {}
        },
        {
          "output_type": "stream",
          "name": "stdout",
          "text": [
            "Corn_(maize)___Cercospora_leaf_spot Gray_leaf_spot\n"
          ]
        }
      ],
      "source": [
        "path = \"/content/test/AppleScab3.JPG\"\n",
        "\n",
        "image = tf.io.read_file(path)\n",
        "image = tf.image.decode_image(image, channels=3)  # Channels=3 for RGB images\n",
        "image = tf.image.resize(image, [256, 256])  # Resize to match model input size\n",
        "image = image / 255.0  # Normalize\n",
        "image = tf.expand_dims(image, axis=0)  # Add batch dimension if needed\n",
        "\n",
        "predictions = model.predict(image)\n",
        "c = np.argmax(predictions, axis=1)\n",
        "display(Image(path))\n",
        "# print(predictions)\n",
        "# print(c)\n",
        "print(classes[int(c)])"
      ],
      "metadata": {
        "ExecuteTime": {
          "end_time": "2023-11-03T12:13:34.138860800Z",
          "start_time": "2023-11-03T12:13:31.401361800Z"
        },
        "colab": {
          "base_uri": "https://localhost:8080/",
          "height": 305
        },
        "id": "f0929cfd512d3ff8",
        "outputId": "5ebd9e0b-1b8c-47bb-b3cb-d3c352c36acd"
      },
      "id": "f0929cfd512d3ff8"
    }
  ],
  "metadata": {
    "kernelspec": {
      "display_name": "Python 3",
      "language": "python",
      "name": "python3"
    },
    "language_info": {
      "codemirror_mode": {
        "name": "ipython",
        "version": 2
      },
      "file_extension": ".py",
      "mimetype": "text/x-python",
      "name": "python",
      "nbconvert_exporter": "python",
      "pygments_lexer": "ipython2",
      "version": "2.7.6"
    },
    "colab": {
      "provenance": []
    }
  },
  "nbformat": 4,
  "nbformat_minor": 5
}